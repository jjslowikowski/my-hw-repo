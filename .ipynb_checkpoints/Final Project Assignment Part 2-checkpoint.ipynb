{
 "cells": [
  {
   "cell_type": "markdown",
   "metadata": {},
   "source": [
    "# Final Project, Part 2: Project Design Writeup"
   ]
  },
  {
   "cell_type": "markdown",
   "metadata": {},
   "source": [
    "This project will be based off of data requested from Bluehole Studios, the publishers of PlayerUnknown's Battlegrounds. I have submited a data request to their analytics team and am optimistic about some level of collaboration as they have provided data to other analyists in the past. I have specifically asked for the following:\n",
    "\n",
    "* ### Training Data: \n",
    "    * Up to 1000 game round winner data that will allow me to build a predictive model based on the characteristics of those winners at the time of their victory\n",
    "        * Statistics include: parachute launch time, first weapon picked up, accuracy, distance traveled by foot, distance travelled by vehicle, # kills, landing distance from final gameplay center, damage dealt per second of gameplay, damage taken per second of gameplay, number of jumps, total time prone, total time crouched, throwables used, total gameplay hours at time of win, total shots fired, average ping during match\n",
    "* ### Test Data:\n",
    "    * Full player data from all participants in up to 10 unique gameplay rounds from the solo first person gametype\n",
    "        * Statistics include: all winner data points in addition to -- gameplay seconds at death, total gameplay hours at time of match"
   ]
  },
  {
   "cell_type": "markdown",
   "metadata": {},
   "source": [
    "#### Well-articulated problem statement with \"specific aim\" and hypothesis, based on your lightning talk"
   ]
  },
  {
   "cell_type": "markdown",
   "metadata": {},
   "source": [
    "Using historical gameplay data from 1000 PUBG game round winners on North American Servers between the dates of 12/1/2017 and 12/30/2017 I will be able to create a model that, with relative accuracy, predicts the likelyhood that a PUBG round participant will make it to the top 10% of match players.\n",
    "\n",
    "Hypothesis:\n",
    "\n",
    "Aggressive players with at least 20 hours of total gameplay will have a higher probability of making it into the top 10% of players in a PUBG match.\n",
    "\n",
    "Aggressive playstyle:\n",
    "* Movement metrics in the top 75% of game players (or perhaps simply statisticilly significant performance above average)\n",
    "    - Higher # jumps, higher total distance traveled, lower time prone, lower time crouched, high number of shots fired, average accuracy"
   ]
  },
  {
   "cell_type": "markdown",
   "metadata": {},
   "source": [
    "#### An outline of any potential methods and models"
   ]
  },
  {
   "cell_type": "markdown",
   "metadata": {},
   "source": [
    "As explained above, I have reached out to the game studio to obtain these data. Gameplay experience is assumed to have a high correlation with probability of getting into the top 10% of players, but luck also has a significant factor.\n",
    "\n",
    "Potential Models:\n",
    "- KNN Classification\n",
    "- Random Forest\n",
    "- Logistic Regression"
   ]
  },
  {
   "cell_type": "markdown",
   "metadata": {},
   "source": [
    "#### Detailed explanation of extant data available (ie: build a data dictionary or link to pre-built data dictionaries)"
   ]
  },
  {
   "cell_type": "markdown",
   "metadata": {},
   "source": [
    "A survey of PUBG statistics was demonstrated on Kaggle by user Johnathan Bouchet\n",
    "\n",
    "https://www.kaggle.com/jonathanbouchet/pubg-stats-overview/notebook\n",
    "\n",
    "Additional metric descriptions are below:\n",
    "\n",
    "* Parachute launch time - Seconds into the match start in which a player launches their parachute (also to be used as a proxy for density of players at landing site (players per km^2\n",
    "* First weapon picked up - First weapon type picked up\n",
    "* Accuracy - Number of shots that hit a player\n",
    "* Distance traveled by foot - Game map distance traveld by foot (km)\n",
    "* Distance travelled by vehicle - Game map distance traveld by vehicle (km)\n",
    "* Total kills - Number of players killed during match\n",
    "* Landing distance from final blue zone epicenter - Landing distance away from the endgame play area (km)\n",
    "* Damage dealt per second of gameplay\n",
    "* Damage taken per second of gameplay\n",
    "* Number of jumps\n",
    "* Total time prone - seconds\n",
    "* Total time crouched - seconds\n",
    "* Throwables used - #grenades, smokes, molotovs thrown\n",
    "* Total gameplay hours at time of win\n",
    "* Total shots fired\n",
    "* Average ping during match\n",
    "* Average survival time across matches played - seconds\n"
   ]
  },
  {
   "cell_type": "markdown",
   "metadata": {},
   "source": [
    "#### Describe any outstanding questions, assumptions, risks, caveats"
   ]
  },
  {
   "cell_type": "markdown",
   "metadata": {},
   "source": [
    "Questions -\n",
    "\n",
    "This game significantly relies on familiarity with the game dynamimcs, but luck also plays a factor. A veteran can lose, while a relatively new player who sneaks around the map may end up winning without killing anyone! \n",
    "\n",
    "Assumptions - \n",
    "Youre twice as likely to die from lightning than you are to win this game the first time playing it, so my assumption is that winners with less gameplay time that do win are either lucky, veterans playing on a new account, skilled at first person shooter gaming in genreal, or cheating\n",
    "\n",
    "Risks - \n",
    "\n",
    "The biggest risk is that the data will not be available. There are many factors that go into gameplay and online gaming has been particularly susceptible to cheating as of late. Cheaters, especially if part of the training set, will dramatically reduce the reliability of the model. I will also need to get a lot of gameplay time from PUBG/Steam. This data may be onerous/difficult to readily obtain."
   ]
  },
  {
   "cell_type": "markdown",
   "metadata": {},
   "source": [
    "#### Demonstrate domain knowledge, including specific features or relevant benchmarks from similar projects"
   ]
  },
  {
   "cell_type": "markdown",
   "metadata": {},
   "source": [
    "See https://www.kaggle.com/jonathanbouchet/pubg-stats-overview/notebook\n",
    "\n",
    "Also, many of the top players on ranking websites like https://pubgtracker.com/ have significant time in game.\n",
    "\n",
    "You can see various playstyles on https://www.twitch.tv/directory/game/PLAYERUNKNOWN'S%20BATTLEGROUNDS"
   ]
  },
  {
   "cell_type": "markdown",
   "metadata": {},
   "source": [
    "#### Define your goals and criteria, in order to explain what success looks like"
   ]
  },
  {
   "cell_type": "markdown",
   "metadata": {},
   "source": [
    "My goal is to create an accurate model that will predict a player's chance of making it into the top 10% of round participants. Success will be measured as predicting with >= 60% success that a player will make it into the top 10% of a match."
   ]
  }
 ],
 "metadata": {
  "kernelspec": {
   "display_name": "Python 3",
   "language": "python",
   "name": "python3"
  },
  "language_info": {
   "codemirror_mode": {
    "name": "ipython",
    "version": 3
   },
   "file_extension": ".py",
   "mimetype": "text/x-python",
   "name": "python",
   "nbconvert_exporter": "python",
   "pygments_lexer": "ipython3",
   "version": "3.6.3"
  }
 },
 "nbformat": 4,
 "nbformat_minor": 2
}
